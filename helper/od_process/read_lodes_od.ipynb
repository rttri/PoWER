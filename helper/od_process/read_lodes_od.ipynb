{
 "cells": [
  {
   "cell_type": "code",
   "execution_count": 1,
   "metadata": {},
   "outputs": [],
   "source": [
    "import pandas as pd\n",
    "import numpy as np\n",
    "import geopandas as gpd\n",
    "\n",
    "data0 = pd.read_csv('../../dataset/LODES/ca_od_aux_JT00_2021.csv.gz')\n",
    "data1 = pd.read_csv('../../dataset/LODES/ca_od_aux_JT01_2021.csv.gz')\n",
    "data2 = pd.read_csv('../../dataset/LODES/ca_od_aux_JT02_2021.csv.gz')\n",
    "data3 = pd.read_csv('../../dataset/LODES/ca_od_aux_JT03_2021.csv.gz')\n",
    "data4 = pd.read_csv('../../dataset/LODES/ca_od_aux_JT04_2021.csv.gz')\n",
    "data5 = pd.read_csv('../../dataset/LODES/ca_od_aux_JT05_2021.csv.gz')\n",
    "\n",
    "data6 = pd.read_csv('../../dataset/LODES/ca_od_main_JT00_2021.csv.gz')\n",
    "data7 = pd.read_csv('../../dataset/LODES/ca_od_main_JT01_2021.csv.gz')\n",
    "data8 = pd.read_csv('../../dataset/LODES/ca_od_main_JT02_2021.csv.gz')\n",
    "data9 = pd.read_csv('../../dataset/LODES/ca_od_main_JT03_2021.csv.gz')\n",
    "data10 = pd.read_csv('../../dataset/LODES/ca_od_main_JT04_2021.csv.gz')\n",
    "data11 = pd.read_csv('../../dataset/LODES/ca_od_main_JT05_2021.csv.gz')\n",
    "\n",
    "data = pd.concat([data0, data1, data2, data3, data4, data5, data6, data7, data8, data9, data10, data11])\n",
    "\n",
    "data_alameda = data[data['w_geocode'].astype(str).str.startswith('6001')]\n",
    "data_alameda = data_alameda[data_alameda['h_geocode'].astype(str).str.startswith('6001')]\n",
    "\n",
    "oak_tract = [\"600140\", \"600141\", \"60014262\", \"60014261\", \"60019819\", \"60019820\", \"60019832\"]"
   ]
  },
  {
   "cell_type": "code",
   "execution_count": 2,
   "metadata": {},
   "outputs": [
    {
     "name": "stderr",
     "output_type": "stream",
     "text": [
      "/var/folders/0z/wc3521k12b5g7pwr410swq240000gq/T/ipykernel_80757/4121379014.py:7: SettingWithCopyWarning: \n",
      "A value is trying to be set on a copy of a slice from a DataFrame.\n",
      "Try using .loc[row_indexer,col_indexer] = value instead\n",
      "\n",
      "See the caveats in the documentation: https://pandas.pydata.org/pandas-docs/stable/user_guide/indexing.html#returning-a-view-versus-a-copy\n",
      "  data_oak_work_and_home[\"w_geocode\"] = data_oak_work_and_home[\"w_geocode\"].apply(lambda x: str(x)[:-4])\n",
      "/var/folders/0z/wc3521k12b5g7pwr410swq240000gq/T/ipykernel_80757/4121379014.py:8: SettingWithCopyWarning: \n",
      "A value is trying to be set on a copy of a slice from a DataFrame.\n",
      "Try using .loc[row_indexer,col_indexer] = value instead\n",
      "\n",
      "See the caveats in the documentation: https://pandas.pydata.org/pandas-docs/stable/user_guide/indexing.html#returning-a-view-versus-a-copy\n",
      "  data_oak_work_and_home[\"h_geocode\"] = data_oak_work_and_home[\"h_geocode\"].apply(lambda x: str(x)[:-4])\n"
     ]
    }
   ],
   "source": [
    "data_oak_work_or_home = data_alameda[\n",
    "    (data_alameda[\"w_geocode\"].astype(str).str.startswith(tuple(oak_tract)))\n",
    "    | (data_alameda[\"h_geocode\"].astype(str).str.startswith(tuple(oak_tract)))\n",
    "]\n",
    "data_oak_work = data_oak_work_or_home[data_oak_work_or_home[\"w_geocode\"].astype(str).str.startswith(tuple(oak_tract))]\n",
    "data_oak_work_and_home = data_oak_work[data_oak_work[\"h_geocode\"].astype(str).str.startswith(tuple(oak_tract))]\n",
    "data_oak_work_and_home[\"w_geocode\"] = data_oak_work_and_home[\"w_geocode\"].apply(lambda x: str(x)[:-4])\n",
    "data_oak_work_and_home[\"h_geocode\"] = data_oak_work_and_home[\"h_geocode\"].apply(lambda x: str(x)[:-4])\n",
    "data_oak_flow = data_oak_work_and_home[data_oak_work_and_home[\"w_geocode\"] != data_oak_work_and_home[\"h_geocode\"]]"
   ]
  },
  {
   "cell_type": "code",
   "execution_count": 3,
   "metadata": {},
   "outputs": [
    {
     "name": "stdout",
     "output_type": "stream",
     "text": [
      "work in Oakland:  296502 \n",
      "work and live in Oakland:  155810 \n",
      "flow in Oakland (work and live in different tracts in Oak):  140109 \n",
      "work or live in Oakland:  425931\n"
     ]
    }
   ],
   "source": [
    "data_oak_work.to_csv('work_in_oakland.csv', index=False)\n",
    "data_oak_work_or_home.to_csv('work_or_home_in_oakland.csv', index=False)\n",
    "data_oak_work_and_home.to_csv('work_and_home_in_oakland.csv', index=False)\n",
    "data_oak_flow.to_csv('work_and_home_in_diff_tracts_oakland.csv', index=False)\n",
    "\n",
    "print(\n",
    "    \"work in Oakland: \",\n",
    "    data_oak_work.shape[0],\n",
    "    \"\\nwork and live in Oakland: \",\n",
    "    data_oak_work_and_home.shape[0],\n",
    "    \"\\nflow in Oakland (work and live in different tracts in Oak): \",\n",
    "    data_oak_flow.shape[0],\n",
    "    \"\\nwork or live in Oakland: \",\n",
    "    data_oak_work_or_home.shape[0],\n",
    ")"
   ]
  },
  {
   "cell_type": "code",
   "execution_count": 4,
   "metadata": {},
   "outputs": [],
   "source": [
    "import matplotlib.pyplot as plt\n",
    "import seaborn as sns\n",
    "import pandas as pd\n",
    "import numpy as np\n",
    "\n",
    "oak_tract = [\"600140\", \"600141\", \"60014262\", \"60014261\", \"60019819\", \"60019820\", \"60019832\"]"
   ]
  },
  {
   "cell_type": "code",
   "execution_count": 5,
   "metadata": {},
   "outputs": [
    {
     "name": "stderr",
     "output_type": "stream",
     "text": [
      "/var/folders/0z/wc3521k12b5g7pwr410swq240000gq/T/ipykernel_80757/256602077.py:7: FutureWarning: Setting an item of incompatible dtype is deprecated and will raise an error in a future version of pandas. Value 'oooak' has dtype incompatible with int64, please explicitly cast to a compatible dtype first.\n",
      "  data_oak_work_or_home.loc[data_oak_work_or_home[\"w_in_oak\"] == False, \"w_geocode\"] = \"oooak\"\n",
      "/var/folders/0z/wc3521k12b5g7pwr410swq240000gq/T/ipykernel_80757/256602077.py:8: FutureWarning: Setting an item of incompatible dtype is deprecated and will raise an error in a future version of pandas. Value 'oooak' has dtype incompatible with int64, please explicitly cast to a compatible dtype first.\n",
      "  data_oak_work_or_home.loc[data_oak_work_or_home[\"h_in_oak\"] == False, \"h_geocode\"] = \"oooak\"\n"
     ]
    }
   ],
   "source": [
    "# computing n_ij matrix in the block groups and save\n",
    "data_oak_work_or_home = pd.read_csv('work_or_home_in_oakland.csv')\n",
    "\n",
    "data_oak_work_or_home = data_oak_work_or_home.sort_values(by=[\"w_geocode\", \"h_geocode\"])[[\"w_geocode\", \"h_geocode\", \"S000\"]]\n",
    "data_oak_work_or_home[\"w_in_oak\"] = data_oak_work_or_home[\"w_geocode\"].astype(str).str.startswith(tuple(oak_tract))\n",
    "data_oak_work_or_home[\"h_in_oak\"] = data_oak_work_or_home[\"h_geocode\"].astype(str).str.startswith(tuple(oak_tract))\n",
    "data_oak_work_or_home.loc[data_oak_work_or_home[\"w_in_oak\"] == False, \"w_geocode\"] = \"oooak\"\n",
    "data_oak_work_or_home.loc[data_oak_work_or_home[\"h_in_oak\"] == False, \"h_geocode\"] = \"oooak\"\n",
    "data_oak_work_or_home = data_oak_work_or_home.groupby([\"w_geocode\", \"h_geocode\"]).sum().reset_index()[[\"w_geocode\", \"h_geocode\", \"S000\"]]\n",
    "data_oak_work_or_home = data_oak_work_or_home.pivot(index=\"w_geocode\", columns=\"h_geocode\", values=\"S000\")\n",
    "data_oak_work_or_home = data_oak_work_or_home.fillna(0).T\n",
    "data_oak_work_or_home.to_csv('n_ij_block_group_LODES_data.csv')"
   ]
  },
  {
   "cell_type": "code",
   "execution_count": 6,
   "metadata": {},
   "outputs": [],
   "source": [
    "# computing n_ij matrix in the census tract level and save (note: 402801 and 402802 are combined)\n",
    "data_oak_work_or_home = pd.read_csv('work_or_home_in_oakland.csv')\n",
    "\n",
    "data_oak_work_or_home = data_oak_work_or_home.sort_values(by=[\"w_geocode\", \"h_geocode\"])[[\"w_geocode\", \"h_geocode\", \"S000\"]]\n",
    "data_oak_work_or_home[\"w_in_oak\"] = data_oak_work_or_home[\"w_geocode\"].astype(str).str.startswith(tuple(oak_tract))\n",
    "data_oak_work_or_home[\"h_in_oak\"] = data_oak_work_or_home[\"h_geocode\"].astype(str).str.startswith(tuple(oak_tract))\n",
    "data_oak_work_or_home[\"h_geocode\"] = data_oak_work_or_home[\"h_geocode\"].apply(lambda x: str(x)[:-4])\n",
    "data_oak_work_or_home[\"w_geocode\"] = data_oak_work_or_home[\"w_geocode\"].apply(lambda x: str(x)[:-4])\n",
    "data_oak_work_or_home.loc[data_oak_work_or_home[\"w_in_oak\"] == False, \"w_geocode\"] = \"oooak\"\n",
    "data_oak_work_or_home.loc[data_oak_work_or_home[\"h_in_oak\"] == False, \"h_geocode\"] = \"oooak\"\n",
    "data_oak_work_or_home = data_oak_work_or_home.groupby([\"w_geocode\", \"h_geocode\"]).sum().reset_index()[[\"w_geocode\", \"h_geocode\", \"S000\"]]\n",
    "data_oak_work_or_home = data_oak_work_or_home.pivot(index=\"w_geocode\", columns=\"h_geocode\", values=\"S000\")\n",
    "data_oak_work_or_home = data_oak_work_or_home.fillna(0).T\n",
    "data_oak_work_or_home.to_csv('n_ij_census_tract_LODES_data.csv')"
   ]
  }
 ],
 "metadata": {
  "kernelspec": {
   "display_name": "eveq",
   "language": "python",
   "name": "python3"
  },
  "language_info": {
   "codemirror_mode": {
    "name": "ipython",
    "version": 3
   },
   "file_extension": ".py",
   "mimetype": "text/x-python",
   "name": "python",
   "nbconvert_exporter": "python",
   "pygments_lexer": "ipython3",
   "version": "3.11.9"
  }
 },
 "nbformat": 4,
 "nbformat_minor": 2
}
